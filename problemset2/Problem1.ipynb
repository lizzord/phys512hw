{
 "cells": [
  {
   "cell_type": "code",
   "execution_count": 1,
   "metadata": {},
   "outputs": [],
   "source": [
    "#EP PHYS 512\n",
    "#Problem Set 2, Question 1"
   ]
  },
  {
   "cell_type": "code",
   "execution_count": 2,
   "metadata": {},
   "outputs": [],
   "source": [
    "import numpy as np\n",
    "import scipy.interpolate as sp_int\n",
    "import matplotlib.pyplot as mpl"
   ]
  },
  {
   "cell_type": "code",
   "execution_count": 3,
   "metadata": {},
   "outputs": [],
   "source": [
    "#define some typical examples of functions to try out variable integration\n",
    "def lorentz(x):\n",
    "    return 1/(1+x**2)\n",
    "\n",
    "def xpoly(x):\n",
    "    return -1*x - 0.5*x**2 + 2*x**3\n",
    "\n",
    "def xpoly_int(x): #subtract from another because of the arbitrary constant\n",
    "    return -1*x**2/2 - 0.5*x**3/3 + 2*x**4/4"
   ]
  },
  {
   "cell_type": "code",
   "execution_count": 4,
   "metadata": {},
   "outputs": [],
   "source": [
    "def integrate_step(fun,x1,x2,xold=np.empty(0),yold=np.empty(0),tol=10**-5, count=0, DEBUG=False):\n",
    "    if DEBUG:\n",
    "        print('integrating from ',x1,' to ',x2)\n",
    "    count+=1 #keep track of how many times it's called\n",
    "    \n",
    "    points=5\n",
    "    x=np.linspace(x1,x2,points)\n",
    "    y = np.zeros(points) #create for holding our y values\n",
    "    \n",
    "    if len(xold)!=0 and len(xold)!=0: #first iteration won't have old points passed in\n",
    "        #I realize hardcoding is a little gross, but computationally the best here because\n",
    "        #we know that we will have 5 points, so we know which indexes are reused\n",
    "        #bothering with np.where() etc. is just going to slow us down again\n",
    "        y[[0,2,4]]=yold #the data points that are the same are reused\n",
    "        if DEBUG:\n",
    "            print('reused points are ', y)\n",
    "            print('x and xold are ', x, xold)\n",
    "        y[[1,3]]=fun(x[[1,3]]) #only recalculate old points\n",
    "    else:\n",
    "        y = fun(x) #calculate all of the points\n",
    "    if DEBUG:\n",
    "        print('final y is ', y)\n",
    "    \n",
    "    #call two different methods to compare answers of to check good integral or not\n",
    "    area1=(x2-x1)*(y[0]+4*y[2]+y[4])/6\n",
    "    area2=(x2-x1)*( y[0]+4*y[1]+2*y[2]+4*y[3]+y[4])/12\n",
    "    myerr=np.abs(area1-area2)\n",
    "    \n",
    "    if myerr<tol:\n",
    "        return area2, count\n",
    "    else:\n",
    "        xm=0.5*(x1+x2)\n",
    "        a1, c1=integrate_step(fun,x1,xm,xold=x[[0,1,2]],yold=y[[0,1,2]],tol=tol/2, DEBUG=DEBUG)\n",
    "        a2, c2=integrate_step(fun,xm,x2,xold=x[[2,3,4]],yold=y[[2,3,4]],tol=tol/2, DEBUG=DEBUG)\n",
    "        return a1+a2, count+c1+c2"
   ]
  },
  {
   "cell_type": "code",
   "execution_count": 5,
   "metadata": {},
   "outputs": [
    {
     "name": "stdout",
     "output_type": "stream",
     "text": [
      "TESTING WITH COSINE\n",
      "Integrating cosine from  0 1.5707963267948966\n",
      "Integrated answer is  1.000008295523968\n",
      "True answer would have been  1.0\n",
      "Number of times function was called 3  saving  6  function calls reusing points\n",
      "\n",
      "\n",
      "\n",
      "\n",
      "TESTING WITH RANDOM POLYNOMIAL\n",
      "Integrating xpoly from  0 15\n",
      "Integrated answer is  24637.5\n",
      "True answer would have been  24637.5\n",
      "Number of times function was called 1  saving  0  function calls reusing points\n",
      "\n",
      "\n",
      "\n",
      "\n",
      "TESTING WITH LORENTZ\n",
      "Integrating lorentz from  -1 1\n",
      "Integrated answer is  1.5707962512293534\n",
      "True answer would have been  1.5707963267948966\n",
      "Number of times function was called 7  saving  18  function calls reusing points\n"
     ]
    }
   ],
   "source": [
    "#for three different examples demonstrate the variable integrator.\n",
    "\n",
    "##COSINE TEST\n",
    "print('TESTING WITH COSINE')\n",
    "x0=0\n",
    "x1=np.pi/2\n",
    "ans, count=integrate_step(np.cos,x0,x1,tol=0.001, DEBUG=False)\n",
    "print('Integrating cosine from ', x0, x1)\n",
    "print('Integrated answer is ', ans)\n",
    "print('True answer would have been ', np.sin(x1)-np.sin(x0))\n",
    "print('Number of times function was called', count, ' saving ', (count-1)*3, ' function calls reusing points')\n",
    "print('\\n\\n\\n')\n",
    "\n",
    "\n",
    "##XPOLY TEST\n",
    "print('TESTING WITH RANDOM POLYNOMIAL')\n",
    "x0=0\n",
    "x1=15\n",
    "ans, count=integrate_step(xpoly,x0,x1,tol=0.001, DEBUG=False)\n",
    "print('Integrating xpoly from ', x0, x1)\n",
    "print('Integrated answer is ', ans)\n",
    "print('True answer would have been ', xpoly_int(x1)-xpoly_int(x0))\n",
    "print('Number of times function was called', count, ' saving ', (count-1)*3, ' function calls reusing points')\n",
    "print('\\n\\n\\n')\n",
    "\n",
    "\n",
    "##LORENTZ TEST\n",
    "print('TESTING WITH LORENTZ')\n",
    "x0=-1\n",
    "x1=1\n",
    "ans, count=integrate_step(lorentz,x0,x1,tol=0.001, DEBUG=False)\n",
    "print('Integrating lorentz from ', x0, x1)\n",
    "print('Integrated answer is ', ans)\n",
    "print('True answer would have been ', np.arctan(x1)-np.arctan(x0))\n",
    "print('Number of times function was called', count, ' saving ', (count-1)*3, ' function calls reusing points')"
   ]
  },
  {
   "cell_type": "markdown",
   "metadata": {},
   "source": [
    "The number of function calls you save depends on how many times the recursive function is called. Each time it's called, three function calls are saved. The polynomial fit is very easy, so few function calls are saved, but for the lorentz function 18 are saved."
   ]
  }
 ],
 "metadata": {
  "kernelspec": {
   "display_name": "Python 3",
   "language": "python",
   "name": "python3"
  },
  "language_info": {
   "codemirror_mode": {
    "name": "ipython",
    "version": 3
   },
   "file_extension": ".py",
   "mimetype": "text/x-python",
   "name": "python",
   "nbconvert_exporter": "python",
   "pygments_lexer": "ipython3",
   "version": "3.6.9"
  }
 },
 "nbformat": 4,
 "nbformat_minor": 4
}
