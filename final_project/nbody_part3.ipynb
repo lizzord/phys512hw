{
 "cells": [
  {
   "cell_type": "code",
   "execution_count": 1,
   "metadata": {},
   "outputs": [
    {
     "name": "stderr",
     "output_type": "stream",
     "text": [
      "In /home/elizabeth/.local/lib/python3.6/site-packages/matplotlib/mpl-data/stylelib/_classic_test.mplstyle: \n",
      "The text.latex.preview rcparam was deprecated in Matplotlib 3.3 and will be removed two minor releases later.\n",
      "In /home/elizabeth/.local/lib/python3.6/site-packages/matplotlib/mpl-data/stylelib/_classic_test.mplstyle: \n",
      "The mathtext.fallback_to_cm rcparam was deprecated in Matplotlib 3.3 and will be removed two minor releases later.\n",
      "In /home/elizabeth/.local/lib/python3.6/site-packages/matplotlib/mpl-data/stylelib/_classic_test.mplstyle: Support for setting the 'mathtext.fallback_to_cm' rcParam is deprecated since 3.3 and will be removed two minor releases later; use 'mathtext.fallback : 'cm' instead.\n",
      "In /home/elizabeth/.local/lib/python3.6/site-packages/matplotlib/mpl-data/stylelib/_classic_test.mplstyle: \n",
      "The validate_bool_maybe_none function was deprecated in Matplotlib 3.3 and will be removed two minor releases later.\n",
      "In /home/elizabeth/.local/lib/python3.6/site-packages/matplotlib/mpl-data/stylelib/_classic_test.mplstyle: \n",
      "The savefig.jpeg_quality rcparam was deprecated in Matplotlib 3.3 and will be removed two minor releases later.\n",
      "In /home/elizabeth/.local/lib/python3.6/site-packages/matplotlib/mpl-data/stylelib/_classic_test.mplstyle: \n",
      "The keymap.all_axes rcparam was deprecated in Matplotlib 3.3 and will be removed two minor releases later.\n",
      "In /home/elizabeth/.local/lib/python3.6/site-packages/matplotlib/mpl-data/stylelib/_classic_test.mplstyle: \n",
      "The animation.avconv_path rcparam was deprecated in Matplotlib 3.3 and will be removed two minor releases later.\n",
      "In /home/elizabeth/.local/lib/python3.6/site-packages/matplotlib/mpl-data/stylelib/_classic_test.mplstyle: \n",
      "The animation.avconv_args rcparam was deprecated in Matplotlib 3.3 and will be removed two minor releases later.\n"
     ]
    }
   ],
   "source": [
    "import numpy as np\n",
    "from classfunctions import NbodyClass\n",
    "import matplotlib.pyplot as mpl\n",
    "from mpl_toolkits.mplot3d import Axes3D"
   ]
  },
  {
   "cell_type": "markdown",
   "metadata": {},
   "source": [
    "### Part 3: Large n\n",
    "\n",
    "This script scatters many particles randomly through a domain and watches as time passes. Both the periodic and nonperiodic case are considered.\n",
    "\n",
    "ffmpeg -i nbodystep%02d.jpg test1.gif\n",
    "\n",
    "#### Periodic case\n",
    "\n",
    "In the periodic case we should see the mass clump slightly into smaller regions, but not be drawn completely together, since it's recieving equal draw from all directions.\n",
    "\n",
    "The only catch: my energy simply increases.\n",
    "Output files here for this case:\n",
    "Gif displayed below.\n",
    "<!-- \n",
    "<!-- ![SegmentLocal](part3PeriodicOutputs/grid50step20soften4/grid50step20soften4periodic.gif \"segment\") -->\n",
    "<!-- <img src=\"part3PeriodicOutputs/grid50step20soften4/grid50step20soften4periodic.gif\" width=\"800\" height=\"800\"/> -->\n",
    " -->\n",
    "Potential problems: \n",
    "Grid size too small. Collapses into a single blob (can see it running over the edges due to periodicity). And at times you can really see the grid bin edges, shown in an image below the gif.\n",
    "\n",
    "Gif of grid too small:\n",
    "<!-- <img src=\"part3PeriodicOutputs/grid10step20soften4/grid10step20soften4periodic.gif\" width=\"800\" height=\"800\"/> -->\n",
    "\n",
    "Gif of bin edges:\n",
    "\n",
    "The bin edges were less evident when the softening was reduced to 2. See gif below. This makes sense because the potential is less boxy for each particle and more natural.\n",
    "\n",
    "\n",
    "#### Non - periodic case.\n",
    "\n",
    "In the non-periodic case we should see all of the particles eventually clumping in the inside of the area, as they will be drawn together by gravity. Note that some of the particles might gain a large velocity and be lost out of the frame.\n",
    "\n",
    "Collapses in on itself and EXPLOOOOODES!!\n",
    "Looks odd when started with a square:\n",
    "part3NonperiodicOutputs/grid30step20soften3\n",
    "\n",
    "\n",
    "Output images and gif located here:\n"
   ]
  },
  {
   "cell_type": "code",
   "execution_count": null,
   "metadata": {
    "scrolled": false
   },
   "outputs": [],
   "source": [
    "num_part = 10**5\n",
    "spread=50\n",
    "periodic = True\n",
    "vzero = True\n",
    "soft=4\n",
    "n = 50\n",
    "\n",
    "\n",
    "name_prefix = \"grid\" + str(spread) + \"step\" + str(n) + \"soften\" + str(soft)\n",
    "if periodic:\n",
    "    outdir = \"part3PeriodicOutputs/\" + name_prefix + \"/\" + name_prefix\n",
    "else:\n",
    "    outdir = \"part3NonperiodicOutputs/\" + name_prefix + \"/\" + name_prefix\n",
    "\n",
    "\n",
    "pos = spread*np.random.rand(3, num_part)\n",
    "# pos = (spread/2)*np.random.randn(3, num_part) + spread/2 #gaussian distribution\n",
    "if vzero:\n",
    "    v = np.zeros( (3, num_part) )\n",
    "else:\n",
    "    v = np.random.rand(3, num_part)\n",
    "    \n",
    "#instantiate the class\n",
    "nbody = NbodyClass(pos, v, outdir=outdir, sgrid=spread, periodic=periodic, gradient=False, soft=soft)\n",
    "nbody.calculate_potential(DEBUG=False)\n",
    "\n",
    "nbody.take_n_steps(n, plots=True, plot_every=1)"
   ]
  },
  {
   "cell_type": "code",
   "execution_count": null,
   "metadata": {},
   "outputs": [],
   "source": [
    "print('Run specs: ')\n",
    "print('Periodic: ', periodic)\n",
    "print('Grid cells: ', spread)\n",
    "print('Number of particles: ', num_part)\n",
    "print('Number of steps: ', n)\n",
    "print('Velocities start at zero :', vzero)\n",
    "print('Softening: ', soft)\n",
    "\n",
    "readme = outdir+ \"readme.txt\"\n",
    "print('printing to readme file ...', readme)\n",
    "f = open(readme, \"w\")\n",
    "f.write('Run specs:')\n",
    "f.write('\\nPeriodic: ' + str(periodic))\n",
    "f.write('\\nGrid cells: ' + str(spread))\n",
    "f.write('\\nNumber of particles: ' + str(num_part))\n",
    "f.write('\\nNumber of steps: ' + str(n))\n",
    "f.write('\\nVelocities start at zero :' +  str(vzero))\n",
    "f.write('\\nSoftening: ' + str(soft))\n",
    "f.close()"
   ]
  },
  {
   "cell_type": "code",
   "execution_count": null,
   "metadata": {},
   "outputs": [],
   "source": [
    "#plot the energy, see how well it's conserved\n",
    "# nbody.plot_energy()\n",
    "lims = 25\n",
    "\n",
    "mpl.figure()\n",
    "# mpl.plot(range(0, n), nbody.pe[:n])\n",
    "mpl.plot(range(0, n), nbody.ke[0, :n])\n",
    "mpl.plot(range(0, n), nbody.ke[1, :n])\n",
    "mpl.plot(range(0, n), nbody.ke[2, :n])\n",
    "# mpl.plot(range(0, n), nbody.pe[:n] + np.sum(nbody.ke, axis=0)[:n])\n",
    "mpl.legend(['keX', 'keY', 'keZ'])\n",
    "mpl.title('energy')\n",
    "# mpl.xlim([0, lims])\n",
    "mpl.show()\n",
    "\n",
    "mpl.figure()\n",
    "mpl.plot(range(0, n), nbody.pe[:n])\n",
    "# mpl.plot(range(0, n), nbody.ke[0, :n])\n",
    "# mpl.plot(range(0, n), nbody.ke[1, :n])\n",
    "# mpl.plot(range(0, n), nbody.ke[2, :n])\n",
    "mpl.plot(range(0, n), nbody.pe[:n] + np.sum(nbody.ke, axis=0)[:n])\n",
    "mpl.legend(['Pot', 'tot e'])\n",
    "# mpl.legend(['Pot', 'keX', 'keY', 'keZ', 'tot e'])\n",
    "# mpl.xlim([0, lims])\n",
    "mpl.title('energy')\n",
    "mpl.show()\n",
    "\n",
    "np.save(outdir + 'kinen', nbody.ke)\n",
    "np.save(outdir + 'poten', nbody.pe)"
   ]
  },
  {
   "cell_type": "code",
   "execution_count": null,
   "metadata": {},
   "outputs": [],
   "source": []
  }
 ],
 "metadata": {
  "kernelspec": {
   "display_name": "Python 3",
   "language": "python",
   "name": "python3"
  },
  "language_info": {
   "codemirror_mode": {
    "name": "ipython",
    "version": 3
   },
   "file_extension": ".py",
   "mimetype": "text/x-python",
   "name": "python",
   "nbconvert_exporter": "python",
   "pygments_lexer": "ipython3",
   "version": "3.6.9"
  }
 },
 "nbformat": 4,
 "nbformat_minor": 4
}
