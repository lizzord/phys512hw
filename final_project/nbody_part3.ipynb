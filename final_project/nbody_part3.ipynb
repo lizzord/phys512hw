{
 "cells": [
  {
   "cell_type": "code",
   "execution_count": 1,
   "metadata": {},
   "outputs": [
    {
     "name": "stderr",
     "output_type": "stream",
     "text": [
      "In /home/elizabeth/.local/lib/python3.6/site-packages/matplotlib/mpl-data/stylelib/_classic_test.mplstyle: \n",
      "The text.latex.preview rcparam was deprecated in Matplotlib 3.3 and will be removed two minor releases later.\n",
      "In /home/elizabeth/.local/lib/python3.6/site-packages/matplotlib/mpl-data/stylelib/_classic_test.mplstyle: \n",
      "The mathtext.fallback_to_cm rcparam was deprecated in Matplotlib 3.3 and will be removed two minor releases later.\n",
      "In /home/elizabeth/.local/lib/python3.6/site-packages/matplotlib/mpl-data/stylelib/_classic_test.mplstyle: Support for setting the 'mathtext.fallback_to_cm' rcParam is deprecated since 3.3 and will be removed two minor releases later; use 'mathtext.fallback : 'cm' instead.\n",
      "In /home/elizabeth/.local/lib/python3.6/site-packages/matplotlib/mpl-data/stylelib/_classic_test.mplstyle: \n",
      "The validate_bool_maybe_none function was deprecated in Matplotlib 3.3 and will be removed two minor releases later.\n",
      "In /home/elizabeth/.local/lib/python3.6/site-packages/matplotlib/mpl-data/stylelib/_classic_test.mplstyle: \n",
      "The savefig.jpeg_quality rcparam was deprecated in Matplotlib 3.3 and will be removed two minor releases later.\n",
      "In /home/elizabeth/.local/lib/python3.6/site-packages/matplotlib/mpl-data/stylelib/_classic_test.mplstyle: \n",
      "The keymap.all_axes rcparam was deprecated in Matplotlib 3.3 and will be removed two minor releases later.\n",
      "In /home/elizabeth/.local/lib/python3.6/site-packages/matplotlib/mpl-data/stylelib/_classic_test.mplstyle: \n",
      "The animation.avconv_path rcparam was deprecated in Matplotlib 3.3 and will be removed two minor releases later.\n",
      "In /home/elizabeth/.local/lib/python3.6/site-packages/matplotlib/mpl-data/stylelib/_classic_test.mplstyle: \n",
      "The animation.avconv_args rcparam was deprecated in Matplotlib 3.3 and will be removed two minor releases later.\n"
     ]
    }
   ],
   "source": [
    "import numpy as np\n",
    "from classfunctions import NbodyClass\n",
    "import matplotlib.pyplot as mpl\n",
    "from mpl_toolkits.mplot3d import Axes3D"
   ]
  },
  {
   "cell_type": "markdown",
   "metadata": {},
   "source": [
    "### Part 3: Large n\n",
    "\n",
    "This script scatters many particles randomly through a domain and watches as time passes. Both the periodic and nonperiodic case are considered.\n",
    "\n",
    "ffmpeg -i nbodystep%02d.jpg test1.gif\n",
    "\n",
    "#### Periodic case\n",
    "\n",
    "In the periodic case we should see the mass clump slightly into smaller regions, but not be drawn completely together, since it's recieving equal draw from all directions.\n",
    "\n",
    "The only catch: my energy simply increases.\n",
    "Output files here for this case:\n",
    "Gif displayed below.\n",
    "\n",
    "<!-- ![SegmentLocal](part3PeriodicOutputs/grid50step20soften4/grid50step20soften4periodic.gif \"segment\") -->\n",
    "<img src=\"part3PeriodicOutputs/grid50step20soften4/grid50step20soften4periodic.gif\" width=\"800\" height=\"800\"/>\n",
    "\n",
    "#### Non - periodic case.\n",
    "\n",
    "In the non-periodic case we should see all of the particles eventually clumping in the inside of the area, as they will be drawn together by gravity. Note that some of the particles might gain a large velocity and be lost out of the frame.\n",
    "\n",
    "Output images and gif located here:\n"
   ]
  },
  {
   "cell_type": "code",
   "execution_count": 2,
   "metadata": {
    "scrolled": false
   },
   "outputs": [
    {
     "data": {
      "text/plain": [
       "20"
      ]
     },
     "execution_count": 2,
     "metadata": {},
     "output_type": "execute_result"
    }
   ],
   "source": [
    "outdir = \"part3PeriodicOutputs/\"\n",
    "\n",
    "num_part = 10**5\n",
    "spread=50\n",
    "periodic = True\n",
    "\n",
    "pos = spread*np.random.rand(3, num_part)\n",
    "v = np.random.rand(3, num_part)\n",
    "nbody = NbodyClass(pos, v, outdir=outdir, sgrid=spread, periodic=periodic, gradient=True)\n",
    "nbody.calculate_potential(DEBUG=False)\n",
    "\n",
    "n = 20\n",
    "nbody.take_n_steps(n, plots=True, plot_every=1)"
   ]
  },
  {
   "cell_type": "code",
   "execution_count": 5,
   "metadata": {},
   "outputs": [
    {
     "name": "stdout",
     "output_type": "stream",
     "text": [
      "Run specs: \n",
      "Periodic: True\n",
      "Grid cells:  50\n",
      "Number of particles:  100000\n",
      "Number of steps:  20\n",
      "Softening:  4\n"
     ]
    }
   ],
   "source": [
    "print('Run specs: ')\n",
    "# print('Periodic: ', periodic)\n",
    "print('Periodic: True')\n",
    "print('Grid cells: ', spread)\n",
    "print('Number of particles: ', num_part)\n",
    "print('Number of steps: ', n)\n",
    "print('Softening: ', 4)"
   ]
  },
  {
   "cell_type": "code",
   "execution_count": 7,
   "metadata": {},
   "outputs": [
    {
     "data": {
      "image/png": "[encoded data removed]",
      "text/plain": [
       "<Figure size 432x288 with 1 Axes>"
      ]
     },
     "metadata": {
      "needs_background": "light"
     },
     "output_type": "display_data"
    },
    {
     "data": {
      "image/png": "[encoded data removed]",
      "text/plain": [
       "<Figure size 432x288 with 1 Axes>"
      ]
     },
     "metadata": {
      "needs_background": "light"
     },
     "output_type": "display_data"
    }
   ],
   "source": [
    "#plot the energy, see how well it's conserved\n",
    "# nbody.plot_energy()\n",
    "lims = 25\n",
    "\n",
    "mpl.figure()\n",
    "# mpl.plot(range(0, n), nbody.pe[:n])\n",
    "mpl.plot(range(0, n), nbody.ke[0, :n])\n",
    "mpl.plot(range(0, n), nbody.ke[1, :n])\n",
    "mpl.plot(range(0, n), nbody.ke[2, :n])\n",
    "# mpl.plot(range(0, n), nbody.pe[:n] + np.sum(nbody.ke, axis=0)[:n])\n",
    "mpl.legend(['keX', 'keY', 'keZ'])\n",
    "mpl.title('energy')\n",
    "mpl.xlim([0, lims])\n",
    "mpl.show()\n",
    "\n",
    "mpl.figure()\n",
    "mpl.plot(range(0, n), nbody.pe[:n])\n",
    "# mpl.plot(range(0, n), nbody.ke[0, :n])\n",
    "# mpl.plot(range(0, n), nbody.ke[1, :n])\n",
    "# mpl.plot(range(0, n), nbody.ke[2, :n])\n",
    "mpl.plot(range(0, n), nbody.pe[:n] + np.sum(nbody.ke, axis=0)[:n])\n",
    "mpl.legend(['Pot', 'tot e'])\n",
    "# mpl.legend(['Pot', 'keX', 'keY', 'keZ', 'tot e'])\n",
    "mpl.xlim([0, lims])\n",
    "mpl.title('energy')\n",
    "mpl.show()\n",
    "\n",
    "np.save(outdir + 'kinen', nbody.ke)\n",
    "np.save(outdir + 'poten', nbody.pe)"
   ]
  },
  {
   "cell_type": "code",
   "execution_count": null,
   "metadata": {},
   "outputs": [],
   "source": []
  }
 ],
 "metadata": {
  "kernelspec": {
   "display_name": "Python 3",
   "language": "python",
   "name": "python3"
  },
  "language_info": {
   "codemirror_mode": {
    "name": "ipython",
    "version": 3
   },
   "file_extension": ".py",
   "mimetype": "text/x-python",
   "name": "python",
   "nbconvert_exporter": "python",
   "pygments_lexer": "ipython3",
   "version": "3.6.9"
  }
 },
 "nbformat": 4,
 "nbformat_minor": 4
}
