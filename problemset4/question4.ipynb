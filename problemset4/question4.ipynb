{
 "cells": [
  {
   "cell_type": "code",
   "execution_count": 1,
   "metadata": {},
   "outputs": [],
   "source": [
    "#EP PS4 Q4"
   ]
  },
  {
   "cell_type": "code",
   "execution_count": 2,
   "metadata": {},
   "outputs": [
    {
     "name": "stderr",
     "output_type": "stream",
     "text": [
      "In /home/elizabeth/.local/lib/python3.6/site-packages/matplotlib/mpl-data/stylelib/_classic_test.mplstyle: \n",
      "The text.latex.preview rcparam was deprecated in Matplotlib 3.3 and will be removed two minor releases later.\n",
      "In /home/elizabeth/.local/lib/python3.6/site-packages/matplotlib/mpl-data/stylelib/_classic_test.mplstyle: \n",
      "The mathtext.fallback_to_cm rcparam was deprecated in Matplotlib 3.3 and will be removed two minor releases later.\n",
      "In /home/elizabeth/.local/lib/python3.6/site-packages/matplotlib/mpl-data/stylelib/_classic_test.mplstyle: Support for setting the 'mathtext.fallback_to_cm' rcParam is deprecated since 3.3 and will be removed two minor releases later; use 'mathtext.fallback : 'cm' instead.\n",
      "In /home/elizabeth/.local/lib/python3.6/site-packages/matplotlib/mpl-data/stylelib/_classic_test.mplstyle: \n",
      "The validate_bool_maybe_none function was deprecated in Matplotlib 3.3 and will be removed two minor releases later.\n",
      "In /home/elizabeth/.local/lib/python3.6/site-packages/matplotlib/mpl-data/stylelib/_classic_test.mplstyle: \n",
      "The savefig.jpeg_quality rcparam was deprecated in Matplotlib 3.3 and will be removed two minor releases later.\n",
      "In /home/elizabeth/.local/lib/python3.6/site-packages/matplotlib/mpl-data/stylelib/_classic_test.mplstyle: \n",
      "The keymap.all_axes rcparam was deprecated in Matplotlib 3.3 and will be removed two minor releases later.\n",
      "In /home/elizabeth/.local/lib/python3.6/site-packages/matplotlib/mpl-data/stylelib/_classic_test.mplstyle: \n",
      "The animation.avconv_path rcparam was deprecated in Matplotlib 3.3 and will be removed two minor releases later.\n",
      "In /home/elizabeth/.local/lib/python3.6/site-packages/matplotlib/mpl-data/stylelib/_classic_test.mplstyle: \n",
      "The animation.avconv_args rcparam was deprecated in Matplotlib 3.3 and will be removed two minor releases later.\n"
     ]
    }
   ],
   "source": [
    "import numpy as np\n",
    "import matplotlib.pyplot as mpl"
   ]
  },
  {
   "cell_type": "code",
   "execution_count": 3,
   "metadata": {},
   "outputs": [],
   "source": [
    "#time domain convolution = frequency domain multiplication\n",
    "#pad with zeros to avoid wrapping\n",
    "def conv(x, y):\n",
    "    N = x.shape[0] + y.shape[0] - 1\n",
    "    \n",
    "    # pad with zeros to appropriate length\n",
    "    x_padded = np.zeros(N)\n",
    "    x_padded[0:x.shape[0]] = x\n",
    "    y_padded = np.zeros(N)\n",
    "    y_padded[0:y.shape[0]] = y\n",
    "    \n",
    "    return np.fft.ifft( np.fft.fft(x_padded) *  np.fft.fft(y_padded) )\n",
    "\n",
    "#for comparison to see wrapping\n",
    "def conv_wrap(x, y):\n",
    "    return np.fft.ifft( np.fft.fft(x) *  np.fft.fft(y) )"
   ]
  },
  {
   "cell_type": "code",
   "execution_count": 4,
   "metadata": {},
   "outputs": [
    {
     "name": "stdout",
     "output_type": "stream",
     "text": [
      "max im :  0.0\n",
      "max im :  0.0\n"
     ]
    },
    {
     "data": {
      "image/png": "[encoded data removed]",
      "text/plain": [
       "<Figure size 432x288 with 1 Axes>"
      ]
     },
     "metadata": {
      "needs_background": "light"
     },
     "output_type": "display_data"
    },
    {
     "data": {
      "image/png": "[encoded data removed]",
      "text/plain": [
       "<Figure size 432x288 with 1 Axes>"
      ]
     },
     "metadata": {
      "needs_background": "light"
     },
     "output_type": "display_data"
    },
    {
     "data": {
      "image/png": "[encoded data removed]",
      "text/plain": [
       "<Figure size 432x288 with 1 Axes>"
      ]
     },
     "metadata": {
      "needs_background": "light"
     },
     "output_type": "display_data"
    }
   ],
   "source": [
    "#test convolution function\n",
    "# x = np.array([1, 3, 3, 3])\n",
    "# y = np.array([3, 3, 3, 1])\n",
    "x = np.ones(10)\n",
    "y = np.ones(10)\n",
    "\n",
    "#try the convolution\n",
    "xconv = conv(x, y)\n",
    "print('max im : ', max(np.imag(xconv))) #should be 0 or close to it\n",
    "xconv = np.real(xconv)\n",
    "\n",
    "#try the convolution with wrapping\n",
    "xconv_wrap = conv_wrap(x, y)\n",
    "print('max im : ', max(np.imag(xconv_wrap))) #should be 0 or close to it\n",
    "xconv_wrap = np.real(xconv_wrap)\n",
    "\n",
    "\n",
    "mpl.figure()\n",
    "mpl.plot(x, '*')\n",
    "mpl.title('Original signal')\n",
    "mpl.show()\n",
    "\n",
    "mpl.figure()\n",
    "mpl.plot(xconv, '*')\n",
    "mpl.title('Convolution of signal avoiding wraparound')\n",
    "mpl.show()\n",
    "\n",
    "mpl.figure()\n",
    "mpl.plot(xconv_wrap, '*')\n",
    "mpl.title('Convolution of signal with wraparound')\n",
    "mpl.show()"
   ]
  },
  {
   "cell_type": "markdown",
   "metadata": {},
   "source": [
    "Here we see that when we avoid wraparound in our signal we obtain the proper convolution that we expect - feeding in a rectangle to obtain a triangle. When wraparound occurs, all of the points in the rectangle completely overlap each time, resulting in a constant."
   ]
  }
 ],
 "metadata": {
  "kernelspec": {
   "display_name": "Python 3",
   "language": "python",
   "name": "python3"
  },
  "language_info": {
   "codemirror_mode": {
    "name": "ipython",
    "version": 3
   },
   "file_extension": ".py",
   "mimetype": "text/x-python",
   "name": "python",
   "nbconvert_exporter": "python",
   "pygments_lexer": "ipython3",
   "version": "3.6.9"
  }
 },
 "nbformat": 4,
 "nbformat_minor": 4
}
