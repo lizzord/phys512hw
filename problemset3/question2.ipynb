{
 "cells": [
  {
   "cell_type": "code",
   "execution_count": 1,
   "metadata": {},
   "outputs": [],
   "source": [
    "#EP Phys 512"
   ]
  },
  {
   "cell_type": "code",
   "execution_count": 2,
   "metadata": {},
   "outputs": [],
   "source": [
    "import numpy as np\n",
    "import matplotlib.pyplot as mpl\n",
    "from wmap_camb_example import get_spectrum"
   ]
  },
  {
   "cell_type": "code",
   "execution_count": 3,
   "metadata": {},
   "outputs": [
    {
     "data": {
      "image/png": "[encoded data removed]",
      "text/plain": [
       "<Figure size 432x288 with 1 Axes>"
      ]
     },
     "metadata": {
      "needs_background": "light"
     },
     "output_type": "display_data"
    }
   ],
   "source": [
    "#use JSiever's example model\n",
    "\n",
    "### JS CODE\n",
    "\n",
    "mpl.ion()\n",
    "\n",
    "pars=np.asarray([65,0.02,0.1,0.05,2e-9,0.96])\n",
    "wmap=np.loadtxt('wmap_tt_spectrum_9yr_v5.txt')\n",
    "\n",
    "mpl.clf();\n",
    "#plt.errorbar(wmap[:,0],wmap[:,1],wmap[:,2],fmt='*')\n",
    "mpl.plot(wmap[:,0],wmap[:,1],'.')\n",
    "\n",
    "cmb=get_spectrum(pars)\n",
    "mpl.plot(cmb, '*')\n",
    "\n",
    "###\n",
    "mpl.xlim([0, 20])\n",
    "mpl.legend(['wmap data points', 'TT power spectrum model'])\n",
    "mpl.show()"
   ]
  },
  {
   "cell_type": "code",
   "execution_count": 4,
   "metadata": {},
   "outputs": [
    {
     "name": "stdout",
     "output_type": "stream",
     "text": [
      "chi squared is  1588.2376458618892\n"
     ]
    }
   ],
   "source": [
    "#get chi^2 = sum( (xi-mui)^2/sigi^2)\n",
    "\n",
    "#what the heck kind of scales are they on anyways - moments of l running from 2 to a lot.\n",
    "\n",
    "#print(cmb.shape) #the model extends far past the CMB points\n",
    "#print(wmap.shape)\n",
    "\n",
    "#do only on overlapping points. note wmap starts at l=2, and cmb at l=0.\n",
    "chi2 = np.sum( (wmap[:,1] - cmb[2:wmap.shape[0]+2])**2 / wmap[:,2]**2 ) \n",
    "print('chi squared is ', chi2)"
   ]
  },
  {
   "cell_type": "code",
   "execution_count": null,
   "metadata": {},
   "outputs": [],
   "source": []
  }
 ],
 "metadata": {
  "kernelspec": {
   "display_name": "Python 3",
   "language": "python",
   "name": "python3"
  },
  "language_info": {
   "codemirror_mode": {
    "name": "ipython",
    "version": 3
   },
   "file_extension": ".py",
   "mimetype": "text/x-python",
   "name": "python",
   "nbconvert_exporter": "python",
   "pygments_lexer": "ipython3",
   "version": "3.6.9"
  }
 },
 "nbformat": 4,
 "nbformat_minor": 4
}
