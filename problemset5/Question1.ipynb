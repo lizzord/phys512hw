{
 "cells": [
  {
   "cell_type": "code",
   "execution_count": 1,
   "metadata": {},
   "outputs": [],
   "source": [
    "#EPieters HW5\n",
    "#Question 1"
   ]
  },
  {
   "cell_type": "code",
   "execution_count": 2,
   "metadata": {},
   "outputs": [
    {
     "name": "stderr",
     "output_type": "stream",
     "text": [
      "In /home/elizabeth/.local/lib/python3.6/site-packages/matplotlib/mpl-data/stylelib/_classic_test.mplstyle: \n",
      "The text.latex.preview rcparam was deprecated in Matplotlib 3.3 and will be removed two minor releases later.\n",
      "In /home/elizabeth/.local/lib/python3.6/site-packages/matplotlib/mpl-data/stylelib/_classic_test.mplstyle: \n",
      "The mathtext.fallback_to_cm rcparam was deprecated in Matplotlib 3.3 and will be removed two minor releases later.\n",
      "In /home/elizabeth/.local/lib/python3.6/site-packages/matplotlib/mpl-data/stylelib/_classic_test.mplstyle: Support for setting the 'mathtext.fallback_to_cm' rcParam is deprecated since 3.3 and will be removed two minor releases later; use 'mathtext.fallback : 'cm' instead.\n",
      "In /home/elizabeth/.local/lib/python3.6/site-packages/matplotlib/mpl-data/stylelib/_classic_test.mplstyle: \n",
      "The validate_bool_maybe_none function was deprecated in Matplotlib 3.3 and will be removed two minor releases later.\n",
      "In /home/elizabeth/.local/lib/python3.6/site-packages/matplotlib/mpl-data/stylelib/_classic_test.mplstyle: \n",
      "The savefig.jpeg_quality rcparam was deprecated in Matplotlib 3.3 and will be removed two minor releases later.\n",
      "In /home/elizabeth/.local/lib/python3.6/site-packages/matplotlib/mpl-data/stylelib/_classic_test.mplstyle: \n",
      "The keymap.all_axes rcparam was deprecated in Matplotlib 3.3 and will be removed two minor releases later.\n",
      "In /home/elizabeth/.local/lib/python3.6/site-packages/matplotlib/mpl-data/stylelib/_classic_test.mplstyle: \n",
      "The animation.avconv_path rcparam was deprecated in Matplotlib 3.3 and will be removed two minor releases later.\n",
      "In /home/elizabeth/.local/lib/python3.6/site-packages/matplotlib/mpl-data/stylelib/_classic_test.mplstyle: \n",
      "The animation.avconv_args rcparam was deprecated in Matplotlib 3.3 and will be removed two minor releases later.\n"
     ]
    }
   ],
   "source": [
    "import numpy as np\n",
    "import matplotlib.pyplot as mpl\n",
    "import glob\n",
    "from simple_read_ligo import read_file, read_template\n",
    "import json\n",
    "from scipy.signal.windows import tukey\n",
    "\n",
    "data_dir = 'LOSC_Event_tutorial/'"
   ]
  },
  {
   "cell_type": "code",
   "execution_count": 3,
   "metadata": {},
   "outputs": [],
   "source": [
    "#WINDOWING: use kaiser window\n",
    "#add an extended flat region at the top of the kaiser window\n",
    "#default is an eigth of the window\n",
    "def flattop_kaiser(m, beta, flat=1/8, DEBUG=False):\n",
    "    m_win = int(m*(1-flat))\n",
    "    m_win += int(m_win%2) #want an even number\n",
    "    \n",
    "    win = np.kaiser(m_win, beta)\n",
    "    pad = np.ones(m-m_win)\n",
    "    win_full= np.insert(win, int(m_win/2), pad)\n",
    "    \n",
    "    if DEBUG:\n",
    "        mpl.figure()\n",
    "        mpl.plot(win)\n",
    "        mpl.plot(win_full)\n",
    "        mpl.show()\n",
    "    \n",
    "    return win_full\n",
    "\n",
    "\n",
    "#plot the FT of the data with different methods:\n",
    "#without window, with kaiser window, with flat kaiser window\n",
    "#returns data with flat kaiser window and with kaiser window\n",
    "def examine_window_methods(data, beta, flat=1/8, DEBUG=False):\n",
    "    m = len(data)\n",
    "    win_kaiser = np.kaiser(m, beta)\n",
    "    win_flatkaiser = flattop_kaiser(m, beta, flat)\n",
    "    \n",
    "    data_kaiser = data*win_kaiser\n",
    "    data_flatkaiser = data*win_flatkaiser\n",
    "    \n",
    "    fft_data = np.fft.rfft(data)\n",
    "    fft_data_kaiser = np.fft.rfft(data_kaiser)\n",
    "    fft_data_flatkaiser = np.fft.rfft(data_flatkaiser)\n",
    "\n",
    "    mpl.figure()\n",
    "    mpl.plot(win_kaiser)\n",
    "    mpl.plot(win_flatkaiser)\n",
    "    mpl.title('Windows')\n",
    "    mpl.legend(['kaiser', 'kaiser with flat top'])\n",
    "    mpl.show()\n",
    "    \n",
    "    mpl.figure()\n",
    "    mpl.loglog(np.abs(fft_data))\n",
    "    mpl.loglog(np.abs(fft_data_kaiser))\n",
    "    mpl.loglog(np.abs(fft_data_flatkaiser))\n",
    "    mpl.title('FFT of windowed data')\n",
    "    mpl.legend(['No window', 'kaiser', 'kaiser with flat top'])\n",
    "    mpl.show()\n",
    "    \n",
    "    if DEBUG:\n",
    "            mpl.figure()\n",
    "            mpl.loglog(np.abs(fft_data_kaiser))\n",
    "            mpl.title('FFT of kaiser windowed data')\n",
    "            mpl.show()\n",
    "            \n",
    "            mpl.figure()\n",
    "            mpl.loglog(np.abs(fft_data_flatkaiser))\n",
    "            mpl.title('FFT of flat kaiser windowed data')\n",
    "            mpl.show()\n",
    "    \n",
    "    return fft_data_flatkaiser, fft_data_kaiser\n",
    "\n",
    "\n",
    "#create boxcar smooth via convolution\n",
    "#have option to take maximum\n",
    "def boxcar_smooth(data, m, take_max=True, DEBUG=False):\n",
    "    box = np.zeros(len(data))\n",
    "    #make symmetrix boxcar\n",
    "    box[:m] = 1\n",
    "    box[-m:] = 1\n",
    "    box = box/sum(box) #normalize\n",
    "    print('sum of  box should now be 1 ', sum(box))\n",
    "\n",
    "#     if DEBUG:\n",
    "#         mpl.figure()\n",
    "#         mpl.plot(box)\n",
    "#         mpl.show()\n",
    "\n",
    "    #convolve the boxcar with the data\n",
    "    smooth_data = np.fft.ifft( np.fft.fft(data) * np.fft.fft(box) , len(data))\n",
    "\n",
    "    if DEBUG:\n",
    "        print('is total power convserved? these should be the same ')\n",
    "        print(np.mean(data), np.mean(smooth_data))\n",
    "\n",
    "    if take_max:\n",
    "        max_smooth_data = np.maximum(data, smooth_data)\n",
    "\n",
    "        print(np.mean(max_smooth_data))\n",
    "\n",
    "        if DEBUG:\n",
    "            mpl.figure()\n",
    "            mpl.loglog(np.abs(data))\n",
    "            mpl.loglog(np.abs(smooth_data))\n",
    "#             mpl.loglog(np.abs(max_smooth_data))\n",
    "            mpl.title('max data')\n",
    "#             mpl.legend(['ogirinal', 'smoothed', 'max'])\n",
    "            mpl.show()\n",
    "\n",
    "        return max_smooth_data\n",
    "\n",
    "    return smooth_data\n",
    "\n",
    "#function returns template based on current file name\n",
    "def get_template(fname):\n",
    "    with open(data_dir + 'BBH_events_v3.json') as json_file: \n",
    "        template_dict = json.load(json_file)\n",
    "    for ii in template_dict:\n",
    "        if data_dir + template_dict[ii]['fn_H1'] == fname:\n",
    "            tname = template_dict[ii]['name'] #the name of the template\n",
    "            th, tl = read_template(data_dir + tname + '_4_template.hdf5') #read in template file\n",
    "            return th \n",
    "        if data_dir + template_dict[ii]['fn_L1'] == fname:\n",
    "            tname = template_dict[ii]['name'] #the name of the template\n",
    "            th, tl = read_template(data_dir + tname + '_4_template.hdf5') #read in template file\n",
    "            return tl\n",
    "    print('ERROR: template not found for file ', fname)\n",
    "    return 0\n",
    "\n",
    "\n",
    "def search_data(template, data, Nft=1):\n",
    "    return np.fft.irfft( np.conj(np.fft.rfft(template)) * (np.fft.rfft(data)/Nft), len(data))"
   ]
  },
  {
   "cell_type": "code",
   "execution_count": 4,
   "metadata": {},
   "outputs": [
    {
     "data": {
      "image/png": "[encoded data removed]",
      "text/plain": [
       "<Figure size 432x288 with 1 Axes>"
      ]
     },
     "metadata": {
      "needs_background": "light"
     },
     "output_type": "display_data"
    },
    {
     "data": {
      "image/png": "[encoded data removed]",
      "text/plain": [
       "<Figure size 432x288 with 1 Axes>"
      ]
     },
     "metadata": {
      "needs_background": "light"
     },
     "output_type": "display_data"
    },
    {
     "data": {
      "image/png": "[encoded data removed]",
      "text/plain": [
       "<Figure size 432x288 with 1 Axes>"
      ]
     },
     "metadata": {
      "needs_background": "light"
     },
     "output_type": "display_data"
    },
    {
     "ename": "NameError",
     "evalue": "name 'fft_data_flatkaiser' is not defined",
     "output_type": "error",
     "traceback": [
      "\u001b[0;31m---------------------------------------------------------------------------\u001b[0m",
      "\u001b[0;31mNameError\u001b[0m                                 Traceback (most recent call last)",
      "\u001b[0;32m<ipython-input-4-58e646bb6296>\u001b[0m in \u001b[0;36m<module>\u001b[0;34m\u001b[0m\n\u001b[1;32m     52\u001b[0m \u001b[0;31m#smooth windowed data\u001b[0m\u001b[0;34m\u001b[0m\u001b[0;34m\u001b[0m\u001b[0;34m\u001b[0m\u001b[0m\n\u001b[1;32m     53\u001b[0m \u001b[0mboxcar_half_width\u001b[0m \u001b[0;34m=\u001b[0m \u001b[0;36m5\u001b[0m\u001b[0;34m\u001b[0m\u001b[0;34m\u001b[0m\u001b[0m\n\u001b[0;32m---> 54\u001b[0;31m \u001b[0mfft_data_flatkaiser_smooth\u001b[0m \u001b[0;34m=\u001b[0m \u001b[0mboxcar_smooth\u001b[0m\u001b[0;34m(\u001b[0m\u001b[0mfft_data_flatkaiser\u001b[0m\u001b[0;34m,\u001b[0m \u001b[0mboxcar_half_width\u001b[0m\u001b[0;34m,\u001b[0m \u001b[0mtake_max\u001b[0m \u001b[0;34m=\u001b[0m \u001b[0;32mFalse\u001b[0m\u001b[0;34m,\u001b[0m \u001b[0mDEBUG\u001b[0m\u001b[0;34m=\u001b[0m\u001b[0;32mFalse\u001b[0m\u001b[0;34m)\u001b[0m\u001b[0;34m\u001b[0m\u001b[0;34m\u001b[0m\u001b[0m\n\u001b[0m\u001b[1;32m     55\u001b[0m \u001b[0;31m# fft_data_flatkaiser_smooth = boxcar_smooth(fft_data_kaiser, boxcar_half_width, take_max = False, DEBUG=False)\u001b[0m\u001b[0;34m\u001b[0m\u001b[0;34m\u001b[0m\u001b[0;34m\u001b[0m\u001b[0m\n\u001b[1;32m     56\u001b[0m \u001b[0;34m\u001b[0m\u001b[0m\n",
      "\u001b[0;31mNameError\u001b[0m: name 'fft_data_flatkaiser' is not defined"
     ]
    }
   ],
   "source": [
    "#PART A: come up with a noise model for Livingston and Hanford seperately\n",
    "\n",
    "### READ IN DATA ###\n",
    "livingston_files = glob.glob(data_dir + \"L-*.hdf5\")\n",
    "hanford_files = glob.glob(data_dir + \"H-*.hdf5\")\n",
    "# print(livingston_files)\n",
    "# print(hanford_files)\n",
    "\n",
    "fname = livingston_files[0]\n",
    "\n",
    "#select a file\n",
    "strain, dt, utc = read_file(fname)\n",
    "\n",
    "#examine data\n",
    "mpl.figure()\n",
    "mpl.plot(strain)\n",
    "mpl.title('strain')\n",
    "mpl.show()\n",
    "\n",
    "mpl.figure()\n",
    "mpl.plot(strain)\n",
    "mpl.title('strain zoomed')\n",
    "mpl.xlim([2000, 20000])\n",
    "mpl.show()\n",
    "\n",
    "\n",
    "### WINDOWING AND SMOOTHING ###\n",
    "#get different windowing methods\n",
    "\n",
    "### OLD: KAISER WINDOW ###\n",
    "#kaiser filter is used due to the adjustability, can be similar to hanning, hamming, blackman filter\n",
    "# simply by adjusting beta\n",
    "#also to extend flat period in middle to avoid diminishing important signals too much\n",
    "#compares kaiser window with and without flat period. with flat period is chosen.\n",
    "# beta = 5\n",
    "# flat = 0.4\n",
    "# fft_data_flatkaiser, fft_data_kaiser = examine_window_methods(strain, beta, flat, DEBUG=False)\n",
    "# win = flattop_kaiser(len(strain), beta, flat) # will need this window later\n",
    "# # win = np.kaiser(len(strain), beta)\n",
    "# # win = np.ones(len(strain))\n",
    "\n",
    "### NEW: TUKEY WINDOW ###\n",
    "alpha = 0.5\n",
    "win = tukey(len(strain), alpha)\n",
    "fft_data_win = np.fft.rfft(win*strain)\n",
    "\n",
    "mpl.figure()\n",
    "mpl.plot(win)\n",
    "mpl.title('tukey window alpha ' + repr(alpha))\n",
    "mpl.show()\n",
    "\n",
    "\n",
    "#smooth windowed data\n",
    "boxcar_half_width = 5\n",
    "fft_data_flatkaiser_smooth = boxcar_smooth(fft_data_flatkaiser, boxcar_half_width, take_max = False, DEBUG=False)\n",
    "# fft_data_flatkaiser_smooth = boxcar_smooth(fft_data_kaiser, boxcar_half_width, take_max = False, DEBUG=False)\n",
    "\n",
    "\n",
    "#examine effects on smoothing in frequency domain\n",
    "mpl.figure()\n",
    "mpl.loglog(np.abs(np.fft.fft(strain)))\n",
    "mpl.loglog(np.abs(fft_data_flatkaiser))\n",
    "mpl.loglog(np.abs(fft_data_flatkaiser_smooth))\n",
    "mpl.title('FFT of data after windowing and smoothing')\n",
    "mpl.legend(['original', 'windowed', 'windowed and smoothed'])\n",
    "mpl.show()\n",
    "\n",
    "\n",
    "#Produce noise matrix (noise in frequency space)\n",
    "Nft = np.abs(fft_data_flatkaiser_smooth)**2\n",
    "\n",
    "mpl.figure()\n",
    "mpl.loglog(Nft)\n",
    "mpl.title('Noise model in frequency space')\n",
    "mpl.show()"
   ]
  },
  {
   "cell_type": "code",
   "execution_count": null,
   "metadata": {},
   "outputs": [],
   "source": [
    "#PART B\n",
    "\n",
    "#get the appropriate template for this data file\n",
    "template = get_template(fname)\n",
    "\n",
    "#window the template and the data\n",
    "template_win = template*win\n",
    "strain_win = strain*win\n",
    "\n",
    "#perform a correlation taking into account the windowed, smoothed noise in fourier space\n",
    "search = search_data(template_win, strain_win, Nft)\n",
    "\n",
    "#perform a correlation taking into account the windowed, smoothed noise in fourier space\n",
    "search_nowin = search_data(template, strain, Nft)\n",
    "\n",
    "#what would the search have looked like with no noise estimate?\n",
    "search_nonoise = search_data(template, strain)\n",
    "\n",
    "mpl.figure()\n",
    "mpl.plot(search)\n",
    "mpl.show()\n",
    "\n",
    "mpl.figure()\n",
    "mpl.plot(search_nowin)\n",
    "mpl.show()\n",
    "\n",
    "mpl.figure()\n",
    "mpl.plot(search_nonoise)\n",
    "mpl.title('with no windowing and no noise')\n",
    "mpl.show()"
   ]
  },
  {
   "cell_type": "code",
   "execution_count": null,
   "metadata": {},
   "outputs": [],
   "source": [
    "#PART C: use other formula\n",
    "\n",
    "#noise / standard deviation is the usual sqr(inv(AT N-1 A))\n",
    "#signal to noise ratio is the m/sigma, the cross correlation divided by the error\n",
    "\n",
    "\n",
    "#TODO: how to get SNR for COMBINED events?? multiply.....??\n"
   ]
  },
  {
   "cell_type": "code",
   "execution_count": null,
   "metadata": {},
   "outputs": [],
   "source": [
    "#PART D:\n",
    "#compare SNR from scatter in matched filter to analytic SNR from noise model. m/D vs eyeballing on graph?\n",
    "#so basically matched filter correlation look "
   ]
  },
  {
   "cell_type": "code",
   "execution_count": null,
   "metadata": {},
   "outputs": [],
   "source": [
    "#PART E:\n",
    "#look at power spectrum in prewhiteened space. N-1/2*A, then FT."
   ]
  }
 ],
 "metadata": {
  "kernelspec": {
   "display_name": "Python 3",
   "language": "python",
   "name": "python3"
  },
  "language_info": {
   "codemirror_mode": {
    "name": "ipython",
    "version": 3
   },
   "file_extension": ".py",
   "mimetype": "text/x-python",
   "name": "python",
   "nbconvert_exporter": "python",
   "pygments_lexer": "ipython3",
   "version": "3.6.9"
  }
 },
 "nbformat": 4,
 "nbformat_minor": 4
}
